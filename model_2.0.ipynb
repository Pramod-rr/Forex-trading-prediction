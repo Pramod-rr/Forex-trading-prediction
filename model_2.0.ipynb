{
 "cells": [
  {
   "cell_type": "code",
   "execution_count": 56,
   "metadata": {},
   "outputs": [],
   "source": [
    "import pandas as pd\n",
    "import numpy as np\n",
    "from sklearn.preprocessing import MinMaxScaler\n",
    "import tensorflow as tf\n",
    "from tensorflow import keras\n",
    "from tensorflow.keras.models import Sequential\n",
    "from tensorflow.keras.layers import LSTM, Dense, Dropout, BatchNormalization, Bidirectional\n",
    "from tensorflow.keras.optimizers import Adam\n",
    "from tensorflow.keras.models import load_model\n",
    "import matplotlib.pyplot as plt"
   ]
  },
  {
   "cell_type": "code",
   "execution_count": 57,
   "metadata": {},
   "outputs": [
    {
     "name": "stdout",
     "output_type": "stream",
     "text": [
      "<class 'pandas.core.frame.DataFrame'>\n",
      "RangeIndex: 258 entries, 0 to 257\n",
      "Data columns (total 5 columns):\n",
      " #   Column  Non-Null Count  Dtype         \n",
      "---  ------  --------------  -----         \n",
      " 0   Date    258 non-null    datetime64[ns]\n",
      " 1   Price   258 non-null    float64       \n",
      " 2   Open    258 non-null    float64       \n",
      " 3   High    258 non-null    float64       \n",
      " 4   Low     258 non-null    float64       \n",
      "dtypes: datetime64[ns](1), float64(4)\n",
      "memory usage: 10.2 KB\n"
     ]
    }
   ],
   "source": [
    "forex_data = pd.read_csv('data/EUR_USD Historical Data.csv')\n",
    "forex_data.columns = forex_data.columns.str.strip()\n",
    "forex_data.rename(columns={'date': 'Date'}, inplace=True)\n",
    "forex_data['Date'] = pd.to_datetime(forex_data['Date'])\n",
    "forex_data = forex_data.drop(columns=['Vol.','Change %'])\n",
    "\n",
    "forex_data.info()"
   ]
  },
  {
   "cell_type": "code",
   "execution_count": 58,
   "metadata": {},
   "outputs": [
    {
     "data": {
      "text/plain": [
       "258"
      ]
     },
     "execution_count": 58,
     "metadata": {},
     "output_type": "execute_result"
    }
   ],
   "source": [
    "close_data = forex_data.filter(['High','Low'])\n",
    "df = close_data.values\n",
    "train_size = int(np.ceil(len(df) * 1))\n",
    "train_size"
   ]
  },
  {
   "cell_type": "code",
   "execution_count": 59,
   "metadata": {},
   "outputs": [
    {
     "data": {
      "text/plain": [
       "((257, 1, 1), (257,))"
      ]
     },
     "execution_count": 59,
     "metadata": {},
     "output_type": "execute_result"
    }
   ],
   "source": [
    "scaler = MinMaxScaler(feature_range=(0, 1))\n",
    "scaled_data_input = scaler.fit_transform(df) \n",
    "\n",
    "train_data = scaled_data_input[0: int(train_size), :]\n",
    "\n",
    "x_train = []\n",
    "y_train = []\n",
    "\n",
    "for i in range(1, len(train_data)):\n",
    "    x_train.append(train_data[i-1:i, 0])\n",
    "    y_train.append(train_data[i, 0])\n",
    "    \n",
    "x_train, y_train = np.array(x_train), np.array(y_train)\n",
    "x_train = np.reshape(x_train, (x_train.shape[0], x_train.shape[1], 1))\n",
    "\n",
    "x_train.shape,y_train.shape"
   ]
  },
  {
   "cell_type": "code",
   "execution_count": 60,
   "metadata": {},
   "outputs": [
    {
     "name": "stderr",
     "output_type": "stream",
     "text": [
      "c:\\Users\\rnmpr\\Documents\\project n sample\\.venv\\Lib\\site-packages\\keras\\src\\layers\\rnn\\rnn.py:200: UserWarning: Do not pass an `input_shape`/`input_dim` argument to a layer. When using Sequential models, prefer using an `Input(shape)` object as the first layer in the model instead.\n",
      "  super().__init__(**kwargs)\n"
     ]
    },
    {
     "name": "stdout",
     "output_type": "stream",
     "text": [
      "\u001b[1m9/9\u001b[0m \u001b[32m━━━━━━━━━━━━━━━━━━━━\u001b[0m\u001b[37m\u001b[0m \u001b[1m5s\u001b[0m 6ms/step - loss: 0.2930 - mae: 0.4877\n"
     ]
    },
    {
     "data": {
      "text/plain": [
       "<keras.src.callbacks.history.History at 0x18c51a4b390>"
      ]
     },
     "execution_count": 60,
     "metadata": {},
     "output_type": "execute_result"
    }
   ],
   "source": [
    "model = Sequential()\n",
    "model.add(Bidirectional(LSTM(units=128, return_sequences=True, input_shape=(x_train.shape[1], 1))))\n",
    "model.add(BatchNormalization())\n",
    "model.add(LSTM(units=64, return_sequences=False))\n",
    "model.add(Dense(64, activation='relu'))\n",
    "model.add(Dropout(0.4))\n",
    "model.add(Dense(32, activation='relu'))\n",
    "model.add(Dense(1))\n",
    "\n",
    "optimizer = Adam(learning_rate=0.001)\n",
    "model.compile(optimizer=optimizer, loss='mse', metrics=['mae'])\n",
    "model.fit(x_train, y_train)"
   ]
  },
  {
   "cell_type": "code",
   "execution_count": 61,
   "metadata": {},
   "outputs": [
    {
     "name": "stdout",
     "output_type": "stream",
     "text": [
      "Epoch 1/10\n",
      "\u001b[1m9/9\u001b[0m \u001b[32m━━━━━━━━━━━━━━━━━━━━\u001b[0m\u001b[37m\u001b[0m \u001b[1m0s\u001b[0m 7ms/step - loss: 0.0664 - mae: 0.2168 \n",
      "Epoch 2/10\n",
      "\u001b[1m9/9\u001b[0m \u001b[32m━━━━━━━━━━━━━━━━━━━━\u001b[0m\u001b[37m\u001b[0m \u001b[1m0s\u001b[0m 6ms/step - loss: 0.0546 - mae: 0.1866 \n",
      "Epoch 3/10\n",
      "\u001b[1m9/9\u001b[0m \u001b[32m━━━━━━━━━━━━━━━━━━━━\u001b[0m\u001b[37m\u001b[0m \u001b[1m0s\u001b[0m 6ms/step - loss: 0.0187 - mae: 0.1056 \n",
      "Epoch 4/10\n",
      "\u001b[1m9/9\u001b[0m \u001b[32m━━━━━━━━━━━━━━━━━━━━\u001b[0m\u001b[37m\u001b[0m \u001b[1m0s\u001b[0m 6ms/step - loss: 0.0153 - mae: 0.1011 \n",
      "Epoch 5/10\n",
      "\u001b[1m9/9\u001b[0m \u001b[32m━━━━━━━━━━━━━━━━━━━━\u001b[0m\u001b[37m\u001b[0m \u001b[1m0s\u001b[0m 6ms/step - loss: 0.0140 - mae: 0.0922 \n",
      "Epoch 6/10\n",
      "\u001b[1m9/9\u001b[0m \u001b[32m━━━━━━━━━━━━━━━━━━━━\u001b[0m\u001b[37m\u001b[0m \u001b[1m0s\u001b[0m 7ms/step - loss: 0.0109 - mae: 0.0799 \n",
      "Epoch 7/10\n",
      "\u001b[1m9/9\u001b[0m \u001b[32m━━━━━━━━━━━━━━━━━━━━\u001b[0m\u001b[37m\u001b[0m \u001b[1m0s\u001b[0m 6ms/step - loss: 0.0106 - mae: 0.0804 \n",
      "Epoch 8/10\n",
      "\u001b[1m9/9\u001b[0m \u001b[32m━━━━━━━━━━━━━━━━━━━━\u001b[0m\u001b[37m\u001b[0m \u001b[1m0s\u001b[0m 7ms/step - loss: 0.0111 - mae: 0.0827 \n",
      "Epoch 9/10\n",
      "\u001b[1m9/9\u001b[0m \u001b[32m━━━━━━━━━━━━━━━━━━━━\u001b[0m\u001b[37m\u001b[0m \u001b[1m0s\u001b[0m 6ms/step - loss: 0.0078 - mae: 0.0700 \n",
      "Epoch 10/10\n",
      "\u001b[1m9/9\u001b[0m \u001b[32m━━━━━━━━━━━━━━━━━━━━\u001b[0m\u001b[37m\u001b[0m \u001b[1m0s\u001b[0m 7ms/step - loss: 0.0088 - mae: 0.0723 \n"
     ]
    }
   ],
   "source": [
    "history = model.fit(x_train,\n",
    "                    y_train,\n",
    "                    epochs=10)"
   ]
  },
  {
   "cell_type": "code",
   "execution_count": 62,
   "metadata": {},
   "outputs": [],
   "source": [
    "model.save('model_1.keras')"
   ]
  },
  {
   "cell_type": "code",
   "execution_count": 63,
   "metadata": {},
   "outputs": [
    {
     "name": "stdout",
     "output_type": "stream",
     "text": [
      "\n",
      "initial mae 0.20686905086040497 | latest mae: 0.07041635364294052\n",
      "initial loss: 0.061914145946502686 | latest loss: 0.008410452865064144\n"
     ]
    }
   ],
   "source": [
    "print(\"\\ninitial mae {} | latest mae: {}\".format(history.history[\"mae\"][0], history.history[\"mae\"][-1]))\n",
    "print(\"initial loss: {} | latest loss: {}\".format(history.history[\"loss\"][0], history.history[\"loss\"][-1]))"
   ]
  },
  {
   "cell_type": "markdown",
   "metadata": {},
   "source": [
    "### model 1"
   ]
  },
  {
   "cell_type": "code",
   "execution_count": 64,
   "metadata": {},
   "outputs": [
    {
     "name": "stdout",
     "output_type": "stream",
     "text": [
      "\u001b[1m9/9\u001b[0m \u001b[32m━━━━━━━━━━━━━━━━━━━━\u001b[0m\u001b[37m\u001b[0m \u001b[1m1s\u001b[0m 52ms/step\n",
      "Model predictions ((257, 1)) do not match scaler input shape ((258, 2)).\n",
      "Predictions saved to 'predicted_price_1.csv'\n"
     ]
    }
   ],
   "source": [
    "import pandas as pd\n",
    "import numpy as np\n",
    "from sklearn.preprocessing import MinMaxScaler\n",
    "from tensorflow.keras.models import load_model\n",
    "\n",
    "# Load trained model\n",
    "model = load_model(\"model_1.keras\")\n",
    "\n",
    "# Load new data for predictions\n",
    "new_data = pd.read_csv(\"data/EUR_USD Historical Data.csv\")\n",
    "new_data['Date'] = pd.to_datetime(new_data['Date'])\n",
    "new_data.set_index('Date', inplace=True)\n",
    "\n",
    "# Preprocess the data\n",
    "scaler = MinMaxScaler(feature_range=(0, 1))\n",
    "scaled_data = scaler.fit_transform(new_data[['High', 'Low']].values)\n",
    "\n",
    "# Prepare data for prediction# Sliding window size\n",
    "lookback = 1\n",
    "X_pred = [scaled_data[i-lookback:i, 0] for i in range(lookback, len(scaled_data))]\n",
    "X_pred = np.array(X_pred).reshape(len(X_pred), lookback, 1)\n",
    "\n",
    "# Predict\n",
    "# Predict\n",
    "try:\n",
    "    predictions = model.predict(X_pred)\n",
    "except ValueError as e:\n",
    "    print(\"Error during prediction:\", e)\n",
    "\n",
    "# Ensure model output matches scaler input for inverse transformation\n",
    "if predictions.shape[1] != scaled_data.shape[1]:\n",
    "    print(f\"Model predictions ({predictions.shape}) do not match scaler input shape ({scaled_data.shape}).\")\n",
    "    # Handle single-column predictions by creating a placeholder\n",
    "    predictions = np.hstack([predictions, np.zeros((predictions.shape[0], 1))])\n",
    "\n",
    "# Inverse transform predictions\n",
    "predicted_prices = scaler.inverse_transform(predictions[:, :scaled_data.shape[1]])\n",
    "\n",
    "\n",
    "# Save predictions\n",
    "prediction_dates = new_data.index[lookback:]\n",
    "# Ensure matching lengths\n",
    "min_length = min(len(prediction_dates), len(predicted_prices))\n",
    "prediction_dates = prediction_dates[:min_length]\n",
    "predicted_prices = predicted_prices[:min_length]\n",
    "\n",
    "# Create DataFrame\n",
    "results = pd.DataFrame({\n",
    "    \"Date\": pd.to_datetime(prediction_dates).strftime('%m-%d-%Y'),\n",
    "    \"Predicted_High\": predicted_prices[:, 0].round(4),\n",
    "    \"Predicted_Low\": predicted_prices[:, 1].round(4)\n",
    "})\n",
    "results.to_csv('predicted_price_1.csv', index=False)\n",
    "print(\"Predictions saved to 'predicted_price_1.csv'\")\n",
    "\n"
   ]
  },
  {
   "cell_type": "code",
   "execution_count": 65,
   "metadata": {},
   "outputs": [
    {
     "name": "stdout",
     "output_type": "stream",
     "text": [
      "Scaled Data Shape: (258, 2)\n",
      "Scaled Data Shape: (258, 2)\n",
      "Predictions Shape: (257, 2)\n"
     ]
    }
   ],
   "source": [
    "print(\"Scaled Data Shape:\", scaled_data_input.shape)\n",
    "print(\"Scaled Data Shape:\", scaled_data.shape)\n",
    "print(\"Predictions Shape:\", predicted_prices.shape)"
   ]
  },
  {
   "cell_type": "code",
   "execution_count": 66,
   "metadata": {},
   "outputs": [
    {
     "data": {
      "image/png": "[encoded data removed]",
      "text/plain": [
       "<Figure size 640x480 with 1 Axes>"
      ]
     },
     "metadata": {},
     "output_type": "display_data"
    }
   ],
   "source": [
    "import matplotlib.pyplot as plt\n",
    "\n",
    "# Assuming `history` is the history object returned by the `fit` method\n",
    "# It contains the loss and any other metrics you have specified\n",
    "\n",
    "# Plot training & validation loss values\n",
    "plt.plot(history.history['loss'])\n",
    "plt.plot(history.history['mae'])\n",
    "plt.title('Model Loss')\n",
    "plt.xlabel('Epoch')\n",
    "plt.ylabel('Loss')\n",
    "plt.legend(['Train', 'Validation'], loc='upper right')\n",
    "plt.show()\n"
   ]
  }
 ],
 "metadata": {
  "kernelspec": {
   "display_name": ".venv",
   "language": "python",
   "name": "python3"
  },
  "language_info": {
   "codemirror_mode": {
    "name": "ipython",
    "version": 3
   },
   "file_extension": ".py",
   "mimetype": "text/x-python",
   "name": "python",
   "nbconvert_exporter": "python",
   "pygments_lexer": "ipython3",
   "version": "3.11.9"
  }
 },
 "nbformat": 4,
 "nbformat_minor": 2
}
